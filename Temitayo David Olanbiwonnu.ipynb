{
 "cells": [
  {
   "cell_type": "code",
   "execution_count": 2,
   "metadata": {},
   "outputs": [],
   "source": [
    "# # Pandas\n",
    "# import pandas as pd\n",
    "\n",
    "# # SQL Alchemy\n",
    "# from sqlalchemy import create_engine\n",
    "\n",
    "# database_path="
   ]
  },
  {
   "cell_type": "code",
   "execution_count": null,
   "metadata": {},
   "outputs": [],
   "source": [
    "-- Create a new table\n",
    "CREATE TABLE  (\n",
    "  current_date DATE(30) NOT NULL,\n",
    "  positive INT,\n",
    "  negative INT,\n",
    "  death_increase VARCHAR(30),\n",
    "  state  VARCHAR(30)\n",
    "  case INT (30)\n",
    "    death INT (30)\n",
    "    updated VARCHAR (30)\n",
    "    state_abrv VARCHAR (30)\n",
    "  \n",
    ");\n",
    "\n",
    "-- Query all fields from the table\n",
    "SELECT *\n",
    "FROM people;\n",
    "\n",
    "-- Insert data into the table\n",
    "INSERT INTO people (name, has_pet, pet_type, pet_name, pet_age)\n",
    "VALUES ('Jacob', true, 'dog', 'Misty', 10),\n",
    "  ('Ahmed', true, 'rock', 'Rockington', 100),\n",
    "  ('Peter', true, 'cat', 'Franklin', 2),\n",
    "  ('Dave', true, 'dog', 'Queso', 1);\n",
    "\n",
    "-- Query only the `pet_name` field\n",
    "SELECT pet_name\n",
    "FROM people;\n",
    "\n",
    "-- Filter the query to show only dogs under the age of 5\n",
    "SELECT pet_type, pet_name\n",
    "FROM people\n",
    "WHERE pet_type = 'dog'\n",
    "AND pet_age < 5;\n",
    "\n"
   ]
  }
 ],
 "metadata": {
  "kernelspec": {
   "display_name": "Python 3",
   "language": "python",
   "name": "python3"
  },
  "language_info": {
   "codemirror_mode": {
    "name": "ipython",
    "version": 3
   },
   "file_extension": ".py",
   "mimetype": "text/x-python",
   "name": "python",
   "nbconvert_exporter": "python",
   "pygments_lexer": "ipython3",
   "version": "3.7.6"
  }
 },
 "nbformat": 4,
 "nbformat_minor": 4
}
