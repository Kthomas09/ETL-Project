{
 "cells": [
  {
   "cell_type": "code",
   "execution_count": 38,
   "metadata": {},
   "outputs": [],
   "source": [
    "# Dependencies\n",
    "import pandas as pd\n",
    "import numpy as np\n",
    "import requests\n",
    "import os\n",
    "import json"
   ]
  },
  {
   "cell_type": "markdown",
   "metadata": {},
   "source": [
    "## Project Discripition\n"
   ]
  },
  {
   "cell_type": "code",
   "execution_count": 39,
   "metadata": {},
   "outputs": [
    {
     "name": "stdout",
     "output_type": "stream",
     "text": [
      "Type a country you wish to serach for: Turkey\n",
      "{'confirmed': 304610, 'deaths': 7574, 'recovered': 268435}\n"
     ]
    }
   ],
   "source": [
    "# Pathway to use later to export CSV for cleaning.\n",
    "international_covid_tracking_data_path = \"/resources/daily_covid_tracking.csv\"\n",
    "\n",
    "# Country input statement to search for api\n",
    "country= input(\"Type a country you wish to serach for: \")\n",
    "\n",
    "# URL for the API call\n",
    "international_covid_tracking_data = f\"https://covid19-stats-api.herokuapp.com/api/v1/cases?country={country}\"\n",
    "\n",
    "# Calling API and printing response.\n",
    "response = requests.get(international_covid_tracking_data).json()\n",
    "print(response)"
   ]
  },
  {
   "cell_type": "code",
   "execution_count": 40,
   "metadata": {},
   "outputs": [
    {
     "name": "stdout",
     "output_type": "stream",
     "text": [
      "[{'state': 'New York', 'case': 455522, 'death': 33092, 'updated': '2020-09-23 00:01:06'}, {'state': 'New Jersey', 'case': 200239, 'death': 16197, 'updated': '2020-09-23 00:01:06'}, {'state': 'California', 'case': 790644, 'death': 15071, 'updated': '2020-09-23 00:01:06'}, {'state': 'Michigan', 'case': 129662, 'death': 6984, 'updated': '2020-09-23 00:01:06'}, {'state': 'Florida', 'case': 685439, 'death': 13317, 'updated': '2020-09-23 00:01:06'}, {'state': 'Massachusetts', 'case': 125723, 'death': 9317, 'updated': '2020-09-23 00:01:06'}, {'state': 'Washington', 'case': 83143, 'death': 2120, 'updated': '2020-09-23 00:01:06'}, {'state': 'Louisiana', 'case': 161462, 'death': 5375, 'updated': '2020-09-23 00:01:06'}, {'state': 'Illinois', 'case': 275722, 'death': 8457, 'updated': '2020-09-23 00:01:06'}, {'state': 'Pennsylvania', 'case': 156364, 'death': 8024, 'updated': '2020-09-23 00:01:06'}, {'state': 'Georgia', 'case': 307340, 'death': 6610, 'updated': '2020-09-23 00:01:06'}, {'state': 'Texas', 'case': 729284, 'death': 14843, 'updated': '2020-09-23 00:01:06'}, {'state': 'Colorado', 'case': 65346, 'death': 2019, 'updated': '2020-09-23 00:01:06'}, {'state': 'Connecticut', 'case': 56024, 'death': 4495, 'updated': '2020-09-23 00:01:06'}, {'state': 'Ohio', 'case': 145166, 'death': 4623, 'updated': '2020-09-23 00:01:06'}, {'state': 'Indiana', 'case': 112031, 'death': 3515, 'updated': '2020-09-23 00:01:06'}, {'state': 'Tennessee', 'case': 184412, 'death': 2236, 'updated': '2020-09-23 00:01:06'}, {'state': 'Maryland', 'case': 120912, 'death': 3895, 'updated': '2020-09-23 00:01:06'}, {'state': 'North Carolina', 'case': 194356, 'death': 3253, 'updated': '2020-09-23 00:01:06'}, {'state': 'Wisconsin', 'case': 102498, 'death': 1244, 'updated': '2020-09-23 00:01:06'}, {'state': 'Arizona', 'case': 214251, 'death': 5478, 'updated': '2020-09-23 00:01:06'}, {'state': 'Virginia', 'case': 142027, 'death': 3064, 'updated': '2020-09-23 00:01:06'}, {'state': 'Missouri', 'case': 116926, 'death': 1977, 'updated': '2020-09-23 00:01:06'}, {'state': 'Nevada', 'case': 76123, 'death': 1532, 'updated': '2020-09-23 00:01:06'}, {'state': 'Alabama', 'case': 146587, 'death': 2458, 'updated': '2020-09-23 00:01:06'}, {'state': 'Mississippi', 'case': 93978, 'death': 2842, 'updated': '2020-09-23 00:01:06'}, {'state': 'South Carolina', 'case': 138125, 'death': 3215, 'updated': '2020-09-23 00:01:06'}, {'state': 'Utah', 'case': 64394, 'death': 441, 'updated': '2020-09-23 00:01:06'}, {'state': 'Minnesota', 'case': 90944, 'death': 2021, 'updated': '2020-09-23 00:01:06'}, {'state': 'Oregon', 'case': 30995, 'death': 529, 'updated': '2020-09-23 00:01:06'}, {'state': 'Oklahoma', 'case': 77859, 'death': 948, 'updated': '2020-09-23 00:01:06'}, {'state': 'Arkansas', 'case': 76365, 'death': 1198, 'updated': '2020-09-23 00:01:06'}, {'state': 'Iowa', 'case': 80758, 'death': 1275, 'updated': '2020-09-23 00:01:06'}, {'state': 'Washington, D.C.', 'case': 15021, 'death': 621, 'updated': '2020-09-23 00:01:06'}, {'state': 'Kentucky', 'case': 61917, 'death': 1112, 'updated': '2020-09-23 00:01:06'}, {'state': 'Idaho', 'case': 37901, 'death': 447, 'updated': '2020-09-23 00:01:06'}, {'state': 'Rhode Island', 'case': 24034, 'death': 1099, 'updated': '2020-09-23 00:01:06'}, {'state': 'Kansas', 'case': 53178, 'death': 599, 'updated': '2020-09-23 00:01:06'}, {'state': 'New Hampshire', 'case': 7952, 'death': 438, 'updated': '2020-09-23 00:01:06'}, {'state': 'Maine', 'case': 5149, 'death': 139, 'updated': '2020-09-23 00:01:06'}, {'state': 'Vermont', 'case': 1723, 'death': 58, 'updated': '2020-09-23 00:01:06'}, {'state': 'New Mexico', 'case': 27683, 'death': 851, 'updated': '2020-09-23 00:01:06'}, {'state': 'Delaware', 'case': 19667, 'death': 627, 'updated': '2020-09-23 00:01:06'}, {'state': 'Puerto Rico', 'case': 42596, 'death': 613, 'updated': '2020-09-23 00:01:06'}, {'state': 'Hawaii', 'case': 11460, 'death': 120, 'updated': '2020-09-23 00:01:06'}, {'state': 'Montana', 'case': 10429, 'death': 160, 'updated': '2020-09-23 00:01:06'}, {'state': 'Nebraska', 'case': 40679, 'death': 436, 'updated': '2020-09-23 00:01:06'}, {'state': 'Navajo Nation', 'case': 10131, 'death': 548, 'updated': '2020-09-23 00:01:06'}, {'state': 'West Virginia', 'case': 14181, 'death': 315, 'updated': '2020-09-23 00:01:06'}, {'state': 'North Dakota', 'case': 18516, 'death': 196, 'updated': '2020-09-23 00:01:06'}, {'state': 'Alaska', 'case': 6906, 'death': 45, 'updated': '2020-09-23 00:01:06'}, {'state': 'Wyoming', 'case': 4815, 'death': 49, 'updated': '2020-09-23 00:01:06'}, {'state': 'South Dakota', 'case': 18869, 'death': 202, 'updated': '2020-09-23 00:01:06'}, {'state': 'Grand Princess', 'case': 103, 'death': 3, 'updated': '2020-09-23 00:01:06'}, {'state': 'Guam', 'case': 2190, 'death': 37, 'updated': '2020-09-23 00:01:06'}, {'state': 'Diamond Princess', 'case': 49, 'death': 0, 'updated': '2020-09-23 00:01:06'}, {'state': 'US Virgin Islands', 'case': 1276, 'death': 19, 'updated': '2020-09-23 00:01:06'}, {'state': 'Wuhan Evacuee', 'case': 4, 'death': 0, 'updated': '2020-09-23 00:01:06'}, {'state': 'Northern Mariana Islands', 'case': 31, 'death': 2, 'updated': '2020-09-23 00:01:06'}, {'state': 'US Military', 'case': 62871, 'death': 93, 'updated': '2020-09-23 00:01:06'}, {'state': 'Federal Bureau of Prisons', 'case': 16086, 'death': 123, 'updated': '2020-09-23 00:01:06'}, {'state': 'Veteran Affair', 'case': 58109, 'death': 3263, 'updated': '2020-09-23 00:01:06'}]\n"
     ]
    }
   ],
   "source": [
    "# Pathway to use later to export CSV for cleaning.\n",
    "us_covid_tracking_data_path = \"/resources/us_covid_tracking_data.csv\"\n",
    "\n",
    "# URL for the API call\n",
    "us_covid_tracking_data = \"https://finnhub.io/api/v1/covid19/us\"\n",
    "\n",
    "# Calling API and printing response.\n",
    "response = requests.get(us_covid_tracking_data).json()\n",
    "print(response)"
   ]
  },
  {
   "cell_type": "code",
   "execution_count": null,
   "metadata": {},
   "outputs": [],
   "source": []
  }
 ],
 "metadata": {
  "kernelspec": {
   "display_name": "Python 3",
   "language": "python",
   "name": "python3"
  },
  "language_info": {
   "codemirror_mode": {
    "name": "ipython",
    "version": 3
   },
   "file_extension": ".py",
   "mimetype": "text/x-python",
   "name": "python",
   "nbconvert_exporter": "python",
   "pygments_lexer": "ipython3",
   "version": "3.8.5"
  }
 },
 "nbformat": 4,
 "nbformat_minor": 4
}
